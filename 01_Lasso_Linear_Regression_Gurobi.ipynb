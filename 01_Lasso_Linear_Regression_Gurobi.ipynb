{
  "nbformat": 4,
  "nbformat_minor": 0,
  "metadata": {
    "colab": {
      "provenance": [],
      "authorship_tag": "ABX9TyON/RXWoqUuwZI32HnDpBWK",
      "include_colab_link": true
    },
    "kernelspec": {
      "name": "python3",
      "display_name": "Python 3"
    },
    "language_info": {
      "name": "python"
    }
  },
  "cells": [
    {
      "cell_type": "markdown",
      "metadata": {
        "id": "view-in-github",
        "colab_type": "text"
      },
      "source": [
        "<a href=\"https://colab.research.google.com/github/nhuarancay/Lasso-Regression-with-Gurobi/blob/main/01_Lasso_Linear_Regression_Gurobi.ipynb\" target=\"_parent\"><img src=\"https://colab.research.google.com/assets/colab-badge.svg\" alt=\"Open In Colab\"/></a>"
      ]
    },
    {
      "cell_type": "markdown",
      "source": [
        "# Lasso Linear Regression in Gurobi"
      ],
      "metadata": {
        "id": "XvEEu2t9cM8j"
      }
    },
    {
      "cell_type": "markdown",
      "source": [
        "#### Modules"
      ],
      "metadata": {
        "id": "YaLYxMeLLNeB"
      }
    },
    {
      "cell_type": "code",
      "source": [
        "!pip install gurobipy"
      ],
      "metadata": {
        "colab": {
          "base_uri": "https://localhost:8080/"
        },
        "id": "8nOEDyuvMxtW",
        "outputId": "6f20342d-14c6-4add-e35e-46a3b3da0290"
      },
      "execution_count": 1,
      "outputs": [
        {
          "output_type": "stream",
          "name": "stdout",
          "text": [
            "Looking in indexes: https://pypi.org/simple, https://us-python.pkg.dev/colab-wheels/public/simple/\n",
            "Collecting gurobipy\n",
            "  Downloading gurobipy-10.0.1-cp39-cp39-manylinux2014_x86_64.whl (12.8 MB)\n",
            "\u001b[2K     \u001b[90m━━━━━━━━━━━━━━━━━━━━━━━━━━━━━━━━━━━━━━━━\u001b[0m \u001b[32m12.8/12.8 MB\u001b[0m \u001b[31m70.4 MB/s\u001b[0m eta \u001b[36m0:00:00\u001b[0m\n",
            "\u001b[?25hInstalling collected packages: gurobipy\n",
            "Successfully installed gurobipy-10.0.1\n"
          ]
        }
      ]
    },
    {
      "cell_type": "code",
      "source": [
        "import numpy as np\n",
        "import pandas as pd\n",
        "import gurobipy as gp\n",
        "from gurobipy import GRB"
      ],
      "metadata": {
        "id": "QuaHV5XWG36U"
      },
      "execution_count": 2,
      "outputs": []
    },
    {
      "cell_type": "code",
      "source": [
        "# Linear model\n",
        "from sklearn.linear_model import LinearRegression, Lasso, LassoCV\n",
        "# Pipeline\n",
        "from sklearn.pipeline import Pipeline, make_pipeline\n",
        "# Preprocessiong to scale data\n",
        "from sklearn.preprocessing import StandardScaler\n",
        "# Matplotlib\n",
        "import matplotlib.pyplot as plt\n",
        "# Time\n",
        "from time import time\n",
        "%matplotlib inline"
      ],
      "metadata": {
        "id": "W87nHtRHG380"
      },
      "execution_count": 3,
      "outputs": []
    },
    {
      "cell_type": "markdown",
      "source": [
        "## Data"
      ],
      "metadata": {
        "id": "cM_zHG7NL7kK"
      }
    },
    {
      "cell_type": "code",
      "source": [
        "# Loading Training/Test data\n",
        "df_train = pd.read_csv('training_data.csv')\n",
        "df_test = pd.read_csv('test_data.csv')"
      ],
      "metadata": {
        "id": "QdG1Gm9GG4Cw"
      },
      "execution_count": 4,
      "outputs": []
    },
    {
      "cell_type": "code",
      "source": [
        "# Training set columns\n",
        "df_train.columns"
      ],
      "metadata": {
        "colab": {
          "base_uri": "https://localhost:8080/"
        },
        "id": "6ekKl5MqL9Ps",
        "outputId": "52b42871-b4f0-4a2a-97f7-2623f9a16e45"
      },
      "execution_count": 5,
      "outputs": [
        {
          "output_type": "execute_result",
          "data": {
            "text/plain": [
              "Index(['y', 'X1', 'X2', 'X3', 'X4', 'X5', 'X6', 'X7', 'X8', 'X9', 'X10', 'X11',\n",
              "       'X12', 'X13', 'X14', 'X15', 'X16', 'X17', 'X18', 'X19', 'X20', 'X21',\n",
              "       'X22', 'X23', 'X24', 'X25', 'X26', 'X27', 'X28', 'X29', 'X30', 'X31',\n",
              "       'X32', 'X33', 'X34', 'X35', 'X36', 'X37', 'X38', 'X39', 'X40', 'X41',\n",
              "       'X42', 'X43', 'X44', 'X45', 'X46', 'X47', 'X48', 'X49', 'X50'],\n",
              "      dtype='object')"
            ]
          },
          "metadata": {},
          "execution_count": 5
        }
      ]
    },
    {
      "cell_type": "code",
      "source": [
        "# Test set columns\n",
        "df_test.columns"
      ],
      "metadata": {
        "colab": {
          "base_uri": "https://localhost:8080/"
        },
        "id": "R4_djqm5L9Sc",
        "outputId": "a5379ffc-5b4f-486b-d4eb-a33e64ddce0b"
      },
      "execution_count": 6,
      "outputs": [
        {
          "output_type": "execute_result",
          "data": {
            "text/plain": [
              "Index(['y', 'X1', 'X2', 'X3', 'X4', 'X5', 'X6', 'X7', 'X8', 'X9', 'X10', 'X11',\n",
              "       'X12', 'X13', 'X14', 'X15', 'X16', 'X17', 'X18', 'X19', 'X20', 'X21',\n",
              "       'X22', 'X23', 'X24', 'X25', 'X26', 'X27', 'X28', 'X29', 'X30', 'X31',\n",
              "       'X32', 'X33', 'X34', 'X35', 'X36', 'X37', 'X38', 'X39', 'X40', 'X41',\n",
              "       'X42', 'X43', 'X44', 'X45', 'X46', 'X47', 'X48', 'X49', 'X50'],\n",
              "      dtype='object')"
            ]
          },
          "metadata": {},
          "execution_count": 6
        }
      ]
    },
    {
      "cell_type": "code",
      "source": [],
      "metadata": {
        "id": "huI5C1cBL9Vz"
      },
      "execution_count": null,
      "outputs": []
    },
    {
      "cell_type": "markdown",
      "source": [
        "# Linear Regression"
      ],
      "metadata": {
        "id": "mmWo3KXANld_"
      }
    },
    {
      "cell_type": "markdown",
      "source": [
        "### Linear Regression formula:\n",
        "\n",
        "$$ y = \\beta_0 + \\beta_1x_{1} + ... + \\beta_1x_{p} + \\epsilon $$\n",
        "\n",
        "### Solution Formulation - Linear Regression:\n",
        "\n",
        "$$ \\min_{\\beta} \\; \\sum_{i=1}^{n} (\\beta_0 + \\beta_1x_{i1} + ... + \\beta_1x_{ip} \\; - \\; y_i)^2 $$\n",
        "\n",
        "$$ \\text{Matrix notation:} $$\n",
        "\n",
        "$$ \\min_{\\beta} \\; \\beta^\\mathsf{T}(\\mathbf{X}^\\mathsf{T} \\mathbf{X})\\beta -2\\beta^\\mathsf{T} \\mathbf{X}^\\mathsf{T} \\mathbf{y} + \\mathbf{y}^\\mathsf{T} \\mathbf{y} $$"
      ],
      "metadata": {
        "id": "WNk-4JhuXO4s"
      }
    },
    {
      "cell_type": "markdown",
      "source": [
        "### General Quadratic Programming Formulation (QP):\n",
        "\n",
        "$$ \\min_{x} \\;\\;  \\mathbf{x}^\\mathsf{T} \\mathbf{Q} \\; \\mathbf{x} \\; + \\; \\mathbf{c}^\\mathsf{T} \\mathbf{x} \\; + \\; \\mathbf{constant} $$\n",
        "\n",
        "$$ \\text{subject to:} \\;\\; \\mathbf{A}^\\mathsf{T} \\mathbf{x} \\leq \\mathbf{b} $$"
      ],
      "metadata": {
        "id": "HhMKn0ZH3Y5k"
      }
    },
    {
      "cell_type": "markdown",
      "source": [
        "The Linear Regression Solution can be addressed as a QP model, where:\n",
        "\n",
        "$$ \\mathbf{x} = \\beta \\;\\; \\text{;} \\;\\; \n",
        "\\mathbf{Q} = \\mathbf{X}^\\mathsf{T} \\mathbf{X} \\;\\; \\text{;} \\;\\;\n",
        "\\mathbf{c} = -2 \\mathbf{X}^\\mathsf{T} \\mathbf{y} \\;\\; \\text{;} \\;\\;\n",
        "\\mathbf{constant} = \\mathbf{y}^\\mathsf{T} \\mathbf{y} $$"
      ],
      "metadata": {
        "id": "ciDfShCs8cPe"
      }
    },
    {
      "cell_type": "code",
      "source": [
        "# Setting X matrices and y vectors\n",
        "#----------------------------------------------------------------------\n",
        "# Training\n",
        "y = df_train['y'].copy()\n",
        "X = df_train.loc[:,df_train.columns!='y'].copy()\n",
        "X.insert(loc=0, column='constant', value=1) # add constant (β0)\n",
        "\n",
        "# Test\n",
        "y_test = df_test['y']\n",
        "X_test = df_test.loc[:,df_train.columns!='y']\n",
        "X_test.insert(loc=0, column='constant', value=1) # add constant (β0)"
      ],
      "metadata": {
        "id": "ljpqoXmn_wCI"
      },
      "execution_count": 7,
      "outputs": []
    },
    {
      "cell_type": "code",
      "source": [
        "# QP Parameters\n",
        "#----------------------------------------------------------------------\n",
        "# number of betas\n",
        "m = len(X.columns)\n",
        "\n",
        "# Creating QP inputs\n",
        "Q = X.T @ X       # Quadratic matrix (Q)\n",
        "c = -2*X.T @ y    # Linear matrix (c)\n",
        "const = y.T @ y   # constant\n",
        "\n",
        "# Inputs\n",
        "#----------------------------------------------------------------------\n",
        "ndv   = m            # number of Decision Variables\n",
        "vtype = ['C']*m      # Variable Types (all betas are continuos)\n",
        "lb    = [-np.inf]*m  # Lower Bounds (betas can be positive or negative)"
      ],
      "metadata": {
        "id": "NcOA7e4LL9bl"
      },
      "execution_count": 8,
      "outputs": []
    },
    {
      "cell_type": "code",
      "source": [
        "# Optimization for Linear Regression (no constraints)\n",
        "#----------------------------------------------------------------------\n",
        "lrMod = gp.Model()\n",
        "lrMod_x = lrMod.addMVar(ndv,vtype=vtype,lb=lb)\n",
        "lrMod.setMObjective(Q,c,const,sense=gp.GRB.MINIMIZE) # β'(X'X)β - 2 β'(X'y) + y'y\n",
        "lrMod.Params.OutputFlag = 0\n",
        "lrMod.Params.TIME_LIMIT = 300 # TIME LIMIT\n",
        "lrMod.optimize()\n",
        "print('Objective value: {:.5f}'.format(lrMod.objVal))"
      ],
      "metadata": {
        "colab": {
          "base_uri": "https://localhost:8080/"
        },
        "id": "hUGbKwKpIFMK",
        "outputId": "f4ed2c1e-07b2-428a-9157-bc1681efb8eb"
      },
      "execution_count": 9,
      "outputs": [
        {
          "output_type": "stream",
          "name": "stdout",
          "text": [
            "Restricted license - for non-production use only - expires 2024-10-28\n",
            "Objective value: 523.01496\n"
          ]
        }
      ]
    },
    {
      "cell_type": "code",
      "source": [
        "# Betas\n",
        "betas_opt = lrMod.x\n",
        "\n",
        "# Predictions\n",
        "y_pred_test = X_test @ betas_opt\n",
        "y_pred = X @ betas_opt\n",
        "\n",
        "# Metrics\n",
        "sse_test = ((y_pred_test - y_test)**2).sum()\n",
        "sse_train = ((y_pred - y)**2).sum()\n",
        "\n",
        "r2_test = pd.DataFrame({'y_pred_test':y_pred_test,'y_test':y_test}).corr().iloc[0,1]**2\n",
        "r2_train = pd.DataFrame({'y_pred':y_pred,'y':y}).corr().iloc[0,1]**2"
      ],
      "metadata": {
        "id": "Z2iypKo2IHBr"
      },
      "execution_count": 10,
      "outputs": []
    },
    {
      "cell_type": "code",
      "source": [
        "# Printing out Metrics\n",
        "print('\\033[1mTraining\\033[0m')\n",
        "print('SSE       : {:.2f}'.format(sse_train))\n",
        "print('R-Squared : {:.2%}'.format(r2_train))\n",
        "print('\\033[1mTest\\033[0m')\n",
        "print('SSE       : {:.2f}'.format(sse_test))\n",
        "print('R-Squared : {:.2%}'.format(r2_test))"
      ],
      "metadata": {
        "colab": {
          "base_uri": "https://localhost:8080/"
        },
        "id": "pen3B58DQuPH",
        "outputId": "695dea74-6ec1-47f5-aeba-a5d03590efb5"
      },
      "execution_count": 11,
      "outputs": [
        {
          "output_type": "stream",
          "name": "stdout",
          "text": [
            "\u001b[1mTraining\u001b[0m\n",
            "SSE       : 523.01\n",
            "R-Squared : 89.36%\n",
            "\u001b[1mTest\u001b[0m\n",
            "SSE       : 115.38\n",
            "R-Squared : 86.66%\n"
          ]
        }
      ]
    },
    {
      "cell_type": "code",
      "source": [
        "# Coefficients:\n",
        "#----------------------------------------------------------------------\n",
        "print('Intercept   : {}'.format(betas_opt[0]))\n",
        "print('Coefficients:')\n",
        "np.array(betas_opt[1:])"
      ],
      "metadata": {
        "colab": {
          "base_uri": "https://localhost:8080/"
        },
        "id": "Oni0VWMTgryR",
        "outputId": "73ddbea3-d139-4ac9-b589-11811325421e"
      },
      "execution_count": 12,
      "outputs": [
        {
          "output_type": "stream",
          "name": "stdout",
          "text": [
            "Intercept   : 0.9618199706768854\n",
            "Coefficients:\n"
          ]
        },
        {
          "output_type": "execute_result",
          "data": {
            "text/plain": [
              "array([-0.03124313,  0.10830046,  0.33658635,  0.34788706, -0.07805158,\n",
              "       -0.26870205,  0.56917466, -0.09265014, -2.80170764,  0.5961224 ,\n",
              "        0.00342708, -0.40802441,  0.64028772,  0.34250235, -0.35811603,\n",
              "       -0.22662545,  0.47574886,  0.61818724,  0.5627165 ,  0.91343131,\n",
              "        0.1266948 , -0.44072877, -1.13218924,  0.71016955,  0.08281624,\n",
              "       -1.48717747,  0.02439235, -0.38572888,  0.35864434,  0.08111228,\n",
              "       -0.18165492,  0.74866389, -0.04257738,  1.2137678 , -0.53326153,\n",
              "        0.23934142,  0.25972978, -0.13112438, -1.09826371,  0.45402031,\n",
              "       -0.59555224,  0.33959881, -0.4208102 ,  0.04031396,  1.8661944 ,\n",
              "       -0.01828012,  1.07420755,  0.147014  ,  0.56919769, -0.22109118])"
            ]
          },
          "metadata": {},
          "execution_count": 12
        }
      ]
    },
    {
      "cell_type": "code",
      "source": [],
      "metadata": {
        "id": "bKtDw1ZKeRm9"
      },
      "execution_count": null,
      "outputs": []
    },
    {
      "cell_type": "markdown",
      "source": [
        "# Lasso Regression"
      ],
      "metadata": {
        "id": "NEMjNABFdnGI"
      }
    },
    {
      "cell_type": "markdown",
      "source": [
        "## Lasso scikit-learn"
      ],
      "metadata": {
        "id": "UhkrwfCceYoe"
      }
    },
    {
      "cell_type": "code",
      "source": [
        "# Setting X matrices and y vectors\n",
        "#---------------------------------------------------------------------\n",
        "# Training\n",
        "y = df_train['y'].copy()\n",
        "X = df_train.loc[:,df_train.columns!='y'].copy()\n",
        "\n",
        "# Test\n",
        "y_test = df_test['y'].copy()\n",
        "X_test = df_test.loc[:,df_train.columns!='y'].copy()"
      ],
      "metadata": {
        "id": "cJD4Fy4Ies2v"
      },
      "execution_count": 13,
      "outputs": []
    },
    {
      "cell_type": "markdown",
      "source": [
        "#### Optimal Lambda  $\\lambda$ "
      ],
      "metadata": {
        "id": "G_LhEuKLetf_"
      }
    },
    {
      "cell_type": "code",
      "source": [
        "# Lasso CV with Normalized X train\n",
        "modelcv = make_pipeline(StandardScaler(), LassoCV(cv=10)).fit(X, y)"
      ],
      "metadata": {
        "id": "VkVh48Twes7-"
      },
      "execution_count": 14,
      "outputs": []
    },
    {
      "cell_type": "code",
      "source": [
        "# Optimal Lambda 𝜆\n",
        "bestlambda = modelcv['lassocv'].alpha_\n",
        "print('Optimal 𝜆: {}'.format(bestlambda))"
      ],
      "metadata": {
        "colab": {
          "base_uri": "https://localhost:8080/"
        },
        "id": "OEtMVUnWe2t5",
        "outputId": "ce21d1f8-6b85-4194-f40d-d1f190e96178"
      },
      "execution_count": 15,
      "outputs": [
        {
          "output_type": "stream",
          "name": "stdout",
          "text": [
            "Optimal 𝜆: 0.08471942409934509\n"
          ]
        }
      ]
    },
    {
      "cell_type": "code",
      "source": [
        "# Lasso using Best Lambda with Normalized X train on the Entire Training set\n",
        "model = make_pipeline(StandardScaler(), Lasso(alpha=bestlambda)).fit(X, y)"
      ],
      "metadata": {
        "id": "bTySET-IeRj5"
      },
      "execution_count": 16,
      "outputs": []
    },
    {
      "cell_type": "code",
      "source": [
        "# Coefficients\n",
        "print('Intercept   : {}'.format(model['lasso'].intercept_))\n",
        "print('Coefficients:')\n",
        "model['lasso'].coef_"
      ],
      "metadata": {
        "colab": {
          "base_uri": "https://localhost:8080/"
        },
        "id": "aMjud-TTeTIV",
        "outputId": "5c0797bd-36fc-4373-ad9e-fe7da411ca2d"
      },
      "execution_count": 17,
      "outputs": [
        {
          "output_type": "stream",
          "name": "stdout",
          "text": [
            "Intercept   : 1.2762324862184158\n",
            "Coefficients:\n"
          ]
        },
        {
          "output_type": "execute_result",
          "data": {
            "text/plain": [
              "array([-0.        , -0.        ,  0.        ,  0.        , -0.        ,\n",
              "        0.        , -0.        , -0.        , -2.71982685,  0.        ,\n",
              "       -0.05745334, -0.        , -0.        , -0.        , -0.39585533,\n",
              "       -0.23276644,  0.        ,  0.        , -0.        ,  0.        ,\n",
              "        0.        , -0.22180365, -1.15847952,  0.77569425, -0.        ,\n",
              "       -1.27950133,  0.        ,  0.        ,  0.06530332,  0.        ,\n",
              "       -0.        ,  0.        , -0.10847216,  0.25740072,  0.01277731,\n",
              "        0.        ,  0.        ,  0.        , -0.18839793,  0.        ,\n",
              "       -0.        ,  0.        ,  0.        ,  0.0186891 ,  1.63196351,\n",
              "       -0.01838965,  0.69384574, -0.08473514,  0.        ,  0.        ])"
            ]
          },
          "metadata": {},
          "execution_count": 17
        }
      ]
    },
    {
      "cell_type": "code",
      "source": [
        "# Number of non-zero coefficients\n",
        "sum([1 for i in model['lasso'].coef_ if i!=0])"
      ],
      "metadata": {
        "colab": {
          "base_uri": "https://localhost:8080/"
        },
        "id": "_Y9fI558lyM-",
        "outputId": "18661d75-d9d3-417d-b526-020f07b72bea"
      },
      "execution_count": 18,
      "outputs": [
        {
          "output_type": "execute_result",
          "data": {
            "text/plain": [
              "18"
            ]
          },
          "metadata": {},
          "execution_count": 18
        }
      ]
    },
    {
      "cell_type": "code",
      "source": [
        "# Betas\n",
        "betas_opt = model['lasso'].coef_\n",
        "\n",
        "# Predictions\n",
        "y_pred_test = X_test @ betas_opt + model['lasso'].intercept_\n",
        "y_pred = X @ betas_opt + model['lasso'].intercept_\n",
        "\n",
        "# Metrics\n",
        "sse_test = ((y_pred_test - y_test)**2).sum()\n",
        "sse_train = ((y_pred - y)**2).sum()\n",
        "\n",
        "r2_test = pd.DataFrame({'y_pred_test':y_pred_test,'y_test':y_test}).corr().iloc[0,1]**2\n",
        "r2_train = pd.DataFrame({'y_pred':y_pred,'y':y}).corr().iloc[0,1]**2"
      ],
      "metadata": {
        "id": "n0vSpxQBoXYZ"
      },
      "execution_count": 19,
      "outputs": []
    },
    {
      "cell_type": "code",
      "source": [
        "# Printing out Metrics\n",
        "print('\\033[1mTraining\\033[0m')\n",
        "print('SSE       : {:.2f}'.format(sse_train))\n",
        "print('R-Squared : {:.2%}'.format(r2_train))\n",
        "print('\\033[1mTest\\033[0m')\n",
        "print('SSE       : {:.2f}'.format(sse_test))\n",
        "print('R-Squared : {:.2%}'.format(r2_test))"
      ],
      "metadata": {
        "colab": {
          "base_uri": "https://localhost:8080/"
        },
        "id": "KxtAWZjyqlY8",
        "outputId": "ca45103c-9507-4b7e-cfe9-23279c0d8d42"
      },
      "execution_count": 20,
      "outputs": [
        {
          "output_type": "stream",
          "name": "stdout",
          "text": [
            "\u001b[1mTraining\u001b[0m\n",
            "SSE       : 758.57\n",
            "R-Squared : 85.88%\n",
            "\u001b[1mTest\u001b[0m\n",
            "SSE       : 132.10\n",
            "R-Squared : 84.23%\n"
          ]
        }
      ]
    },
    {
      "cell_type": "code",
      "source": [],
      "metadata": {
        "id": "PE6frA33eTRT"
      },
      "execution_count": null,
      "outputs": []
    },
    {
      "cell_type": "markdown",
      "source": [
        "## Lasso with Optimization (Gurobi)"
      ],
      "metadata": {
        "id": "9NyPdn4zeUQK"
      }
    },
    {
      "cell_type": "markdown",
      "source": [
        "### Solution Formulation - Lasso Linear Regression:\n",
        "\n",
        "$$ \\min_{\\beta} \\; \\sum_{i=1}^{n} (\\beta_0 + \\beta_1x_{i1} + ... + \\beta_1x_{ip} \\; - \\; y_i)^2 + \\sum_{j=1}^{m} \\lambda_j \\lvert{\\beta_j}\\rvert $$\n",
        "\n",
        "$$ \\text{Matrix notation:} $$\n",
        "\n",
        "$$ \\min_{\\beta} \\; \\beta^\\mathsf{T}(\\mathbf{X}^\\mathsf{T} \\mathbf{X})\\beta -2\\beta^\\mathsf{T} \\mathbf{X}^\\mathsf{T} \\mathbf{y} + \\mathbf{y}^\\mathsf{T} \\mathbf{y} + \\lambda \\lvert{\\beta}\\rvert $$\n",
        "\n",
        "$$ \\text{where:} $$\n",
        "\n",
        "$$ \\lambda = \\mbox{lambda vector} $$\n",
        "$$ \\lambda_1 = 0 , \\; \\text{the penalization doesn´t affect the intercept}  $$\n",
        "$$ \\lambda_{j \\neq 1} = l_{1} \\text{ penalization (alpha)} $$"
      ],
      "metadata": {
        "id": "hlrtr88aJYvj"
      }
    },
    {
      "cell_type": "markdown",
      "source": [
        "However, it's difficult to solve the former formulation since that QP problem doesn´t meet the same form that the General QP formula because $\\lvert{\\beta}\\rvert$ is a not linear and we cannot a proper form for $\\mathbf{c}$.\n",
        "\n",
        "We can linearize the problem with the following formulation:"
      ],
      "metadata": {
        "id": "uGyirOUzZanb"
      }
    },
    {
      "cell_type": "markdown",
      "source": [
        "## Lasso Formulation with the General QP form\n",
        "\n",
        "Let's: $ \\; \\; \\beta = \\beta^+ - \\beta^- $\n",
        "\n",
        "where: <br>\n",
        "$ \\;\\;\\;\\;\\;\\;\\;\\;\\;\\; \\beta^+ : $ positive betas <br>\n",
        "$ \\;\\;\\;\\;\\;\\;\\;\\;\\;\\; \\beta^- : $ negative betas <br>\n",
        "\n",
        "and: <br>\n",
        "\n",
        "$\n",
        "\\;\\;\\;\\;\\;\\;\\;\\;\\;\\; \\beta^+ = \\left\\{\n",
        "    \\begin{array}\\\\\n",
        "        \\lvert \\beta \\rvert & \\mbox{if } \\ \\beta > 0 \\\\\n",
        "        0 & \\mbox{else.}\n",
        "    \\end{array}\n",
        "\\right.\n",
        "$\n",
        "\n",
        "$\n",
        "\\;\\;\\;\\;\\;\\;\\;\\;\\;\\; \\beta^- = \\left\\{\n",
        "    \\begin{array}\\\\\n",
        "        \\lvert \\beta \\rvert & \\mbox{if } \\ \\beta < 0 \\\\\n",
        "        0 & \\mbox{else.}\n",
        "    \\end{array}\n",
        "\\right.\n",
        "$"
      ],
      "metadata": {
        "id": "idrAqIXJa1b9"
      }
    },
    {
      "cell_type": "markdown",
      "source": [
        "## Formulation\n",
        "\n",
        "$$ \n",
        "\\min_{\\beta^+, \\beta^-} \\; \n",
        "\\begin{pmatrix} \\beta^+ \\\\ \\beta^- \\end{pmatrix}^\\mathsf{T} \n",
        "\\begin{pmatrix} +\\mathbf{X}^\\mathsf{T} \\mathbf{X} & -\\mathbf{X}^\\mathsf{T} \\mathbf{X} \\\\ -\\mathbf{X}^\\mathsf{T} \\mathbf{X} & +\\mathbf{X}^\\mathsf{T} \\mathbf{X} \\end{pmatrix}\n",
        "\\begin{pmatrix} \\beta^+ \\\\ \\beta^- \\end{pmatrix}\n",
        "+\n",
        "\\begin{pmatrix} \\beta^+ \\\\ \\beta^- \\end{pmatrix}^\\mathsf{T} \n",
        "\\begin{pmatrix} -2\\mathbf{X}^\\mathsf{T} \\mathbf{y} \\\\ +2\\mathbf{X}^\\mathsf{T} \\mathbf{y} \\end{pmatrix}\n",
        "+\n",
        "\\begin{pmatrix} \\beta^+ \\\\ \\beta^- \\end{pmatrix}^\\mathsf{T} \n",
        "\\begin{pmatrix} \\lambda \\\\ \\lambda \\end{pmatrix}\n",
        "+\n",
        "\\mathbf{y}^\\mathsf{T} \\mathbf{y}\n",
        "$$\n",
        "$$ \\text{_________________________________________________} $$\n",
        "\n",
        "$$ \n",
        "\\min_{\\beta^+, \\beta^-} \\; \n",
        "\\begin{pmatrix} \\beta^+ \\\\ \\beta^- \\end{pmatrix}^\\mathsf{T} \n",
        "\\begin{pmatrix} +\\mathbf{X}^\\mathsf{T} \\mathbf{X} & -\\mathbf{X}^\\mathsf{T} \\mathbf{X} \\\\ -\\mathbf{X}^\\mathsf{T} \\mathbf{X} & +\\mathbf{X}^\\mathsf{T} \\mathbf{X} \\end{pmatrix}\n",
        "\\begin{pmatrix} \\beta^+ \\\\ \\beta^- \\end{pmatrix}\n",
        "+\n",
        "\\begin{pmatrix} \\beta^+ \\\\ \\beta^- \\end{pmatrix}^\\mathsf{T} \n",
        "\\begin{pmatrix} \\lambda-2\\mathbf{X}^\\mathsf{T} \\mathbf{y} \\\\ \\lambda+2\\mathbf{X}^\\mathsf{T} \\mathbf{y} \\end{pmatrix}\n",
        "+\n",
        "\\mathbf{y}^\\mathsf{T} \\mathbf{y}\n",
        "$$\n",
        "\n",
        "$$ \\text{subject to:} $$\n",
        "$$ \\begin{pmatrix} \\beta^+ \\\\ \\beta^- \\end{pmatrix} \\geq 0 $$"
      ],
      "metadata": {
        "id": "r19RjgwHfbn_"
      }
    },
    {
      "cell_type": "markdown",
      "source": [
        "Now, for the Lasso Regression the parameters in the QP model are:\n",
        "\n",
        "$$ \\mathbf{x} = \\begin{pmatrix} \\beta^+ \\\\ \\beta^- \\end{pmatrix} \\;\\; \\text{;} \\;\\; \n",
        "\\mathbf{Q} = \\begin{pmatrix} +\\mathbf{X}^\\mathsf{T} \\mathbf{X} & -\\mathbf{X}^\\mathsf{T} \\mathbf{X} \\\\ -\\mathbf{X}^\\mathsf{T} \\mathbf{X} & +\\mathbf{X}^\\mathsf{T} \\mathbf{X} \\end{pmatrix} \\;\\; \\text{;} \\;\\;\n",
        "\\mathbf{c} = \\begin{pmatrix} \\lambda-2\\mathbf{X}^\\mathsf{T} \\mathbf{y} \\\\ \\lambda+2\\mathbf{X}^\\mathsf{T} \\mathbf{y} \\end{pmatrix} \\;\\; \\text{;} \\;\\;\n",
        "\\mathbf{constant} = \\mathbf{y}^\\mathsf{T} \\mathbf{y} $$"
      ],
      "metadata": {
        "id": "W1juD3qBkcoT"
      }
    },
    {
      "cell_type": "markdown",
      "source": [
        "Now, we should note that in Gurobi it would be indistintive "
      ],
      "metadata": {
        "id": "gRyqcJGysSEs"
      }
    },
    {
      "cell_type": "markdown",
      "source": [
        "### Formulation Lasso MIQP:\n",
        "\n",
        "$$ \\min_{\\beta^{+}, \\beta^{-}, z} \\; \n",
        "\\begin{pmatrix}\\beta^{+}\\\\\\beta^{-}\\\\\\mathbf{z}\\end{pmatrix}^\\mathsf{T} \n",
        "\\begin{pmatrix}+\\mathbf{X}^\\mathsf{T}\\mathbf{X}&-\\mathbf{X}^\\mathsf{T}\\mathbf{X}&0\\\\-\\mathbf{X}^\\mathsf{T}\\mathbf{X}&+\\mathbf{X}^\\mathsf{T}\\mathbf{X}&0\\\\0&0&0\\end{pmatrix}\n",
        "\\begin{pmatrix}\\beta^{+}\\\\\\beta^{-}\\\\\\mathbf{z}\\end{pmatrix} \n",
        "+ \\begin{pmatrix}\\beta^{+}\\\\\\beta^{-}\\\\\\mathbf{z}\\end{pmatrix}^\\mathsf{T}  \\begin{pmatrix}\\lambda - 2\\mathbf{X}^\\mathsf{T}\\mathbf{y}\\\\ \\lambda + 2\\mathbf{X}^\\mathsf{T}\\mathbf{y} \\\\ 0 \\end{pmatrix}\n",
        "+ \\mathbf{y}^\\mathsf{T}\\mathbf{y} $$\n",
        "\n",
        "$$ \\text{subject to:} $$\n",
        "$$ \\beta^{+}_{i} - Mz_i \\;\\;\\;\\;\\;\\;\\;\\;\\; \\leq 0 $$\n",
        "$$ \\beta^{-}_{i} - M(1-z_i) \\leq 0 $$\n",
        "\n",
        "$$ \\text{where:} $$\n",
        "$$ \\beta^{+} \\geq 0 \\; \\; ; \\; \\; \\beta^{+}: \\text{positive betas} $$\n",
        "$$ \\beta^{-} \\geq 0 \\; \\; ; \\; \\; \\beta^{-}: \\text{negative betas} $$\n",
        "$$ z_i: \\text{ binary, 1 if } \\beta^{+}_{i} > 0 \\text{, and 0 if } \\beta^{-}_{i} \\geq 0 $$\n",
        "$$ M: \\text{big number} $$"
      ],
      "metadata": {
        "id": "u3G-ukBkn9BD"
      }
    },
    {
      "cell_type": "markdown",
      "source": [
        "Then, the Lasso parameters in the QP model in Gurobi are:\n",
        "\n",
        "$$ \\mathbf{x} = \\begin{pmatrix}\\beta^{+}\\\\\\beta^{-}\\\\\\mathbf{z}\\end{pmatrix} \\;\\; \\text{;} \\;\\; \n",
        "\\mathbf{Q} = \\begin{pmatrix}+\\mathbf{X}^\\mathsf{T}\\mathbf{X}&-\\mathbf{X}^\\mathsf{T}\\mathbf{X}&0\\\\-\\mathbf{X}^\\mathsf{T}\\mathbf{X}&+\\mathbf{X}^\\mathsf{T}\\mathbf{X}&0\\\\0&0&0\\end{pmatrix} \\;\\; \\text{;} \\;\\;\n",
        "\\mathbf{c} = \\begin{pmatrix} \\lambda-2\\mathbf{X}^\\mathsf{T} \\mathbf{y} \\\\ \\lambda+2\\mathbf{X}^\\mathsf{T} \\mathbf{y} \\\\ 0 \\end{pmatrix} \\;\\; \\text{;} \\;\\;\n",
        "\\mathbf{constant} = \\mathbf{y}^\\mathsf{T} \\mathbf{y} $$"
      ],
      "metadata": {
        "id": "jbLNLMAWvEuK"
      }
    },
    {
      "cell_type": "markdown",
      "source": [
        "Adjusting for the factor as scikit-learn:\n",
        "\n",
        "$$ \n",
        "factor = \\dfrac{1}{2n} \\;\\; \\text{;} \\;\\;\n",
        "\\mathbf{Q} = \\mathbf{Q}*factor \\;\\; \\text{;} \\;\\;\n",
        "\\mathbf{c} = \\begin{pmatrix} \\lambda-2\\mathbf{X}^\\mathsf{T} \\mathbf{y}*factor \\\\ \\lambda+2\\mathbf{X}^\\mathsf{T} \\mathbf{y}*factor \\\\ 0 \\end{pmatrix} \\;\\; \\text{;} \\;\\;\n",
        "\\mathbf{constant} = \\mathbf{constant}*factor $$"
      ],
      "metadata": {
        "id": "hdfN5wNBIPRe"
      }
    },
    {
      "cell_type": "code",
      "source": [],
      "metadata": {
        "id": "RBWLnjHi0MDy"
      },
      "execution_count": null,
      "outputs": []
    },
    {
      "cell_type": "code",
      "source": [
        "bestlambda = bestlambda"
      ],
      "metadata": {
        "id": "CDq25ehlVTDP"
      },
      "execution_count": 21,
      "outputs": []
    },
    {
      "cell_type": "code",
      "source": [
        "# Setting X matrices and y vectors\n",
        "#-------------------------------------------\n",
        "# Training\n",
        "y = df_train['y'].copy()\n",
        "X = df_train.loc[:,df_train.columns!='y'].copy()\n",
        "X = pd.DataFrame(StandardScaler().fit(X).transform(X),columns=X.columns) # Scaled X train\n",
        "X.insert(loc=0, column='constant', value=1) # add constant (β0)\n",
        "\n",
        "# Test\n",
        "y_test = df_test['y']\n",
        "X_test = df_test.loc[:,df_train.columns!='y']\n",
        "X_test.insert(loc=0, column='constant', value=1) # add constant (β0)"
      ],
      "metadata": {
        "id": "G6xajDFFVTFr"
      },
      "execution_count": 22,
      "outputs": []
    },
    {
      "cell_type": "code",
      "source": [
        "# number of betas\n",
        "w = len(X.columns)\n",
        "\n",
        "# number of variables\n",
        "p = len(X.columns) - 1\n",
        "\n",
        "# Factor by number of rows (Check scikit-learn: \n",
        "# (1 / (2 * n_samples)) * ||y - Xw||^2_2 + alpha * ||w||_1 )\n",
        "factor = (1/(2*len(X)))\n",
        "\n",
        "# Creating adjusted QP input matrices for QP Lasso\n",
        "Q = np.zeros((3*w,3*w))\n",
        "Q[ :  w, :  w] =  (X.T @ X)  # Top-left\n",
        "Q[ :  w,w:2*w] = -(X.T @ X)  # Top-right\n",
        "Q[w:2*w, :  w] = -(X.T @ X)  # Bottom-left\n",
        "Q[w:2*w,w:2*w] =  (X.T @ X)  # Bottom-right\n",
        "Q = Q*factor\n",
        "\n",
        "c = np.zeros(3*w)\n",
        "c[ :  w] = -2*(X.T @ y) # Left\n",
        "c[w:2*w] = +2*(X.T @ y) # Right\n",
        "c = c*factor\n",
        "# lambda doesn't affect the intercept\n",
        "lambda_vector = np.array([0] + [bestlambda]*p + [0] + [bestlambda]*p) \n",
        "c[:2*w] = c[:2*w] + lambda_vector\n",
        "\n",
        "const = (y.T @ y)*factor"
      ],
      "metadata": {
        "id": "r2tcUqYEVTIu"
      },
      "execution_count": 23,
      "outputs": []
    },
    {
      "cell_type": "code",
      "source": [
        "# Inputs and Constraints\n",
        "M = 999\n",
        "\n",
        "# Constraints\n",
        "A = np.zeros((2*w,3*w))\n",
        "b = np.zeros(2*w)\n",
        "\n",
        "# if beta_pos > 0 then beta_neg = 0, viceversa\n",
        "for i in range(w):\n",
        "    A[  i, [  i,2*w+i]] = [1,-M]  # beta_pos(i) <= z(i)*M      -->  1*beta_pos(i) - M*z(i) <= 0\n",
        "    A[w+i, [w+i,2*w+i]] = [1, M]  # beta_neg(i) <= (1-z(i))*M  -->  1*beta_neg(i) + M*z(i) <= M\n",
        "    b[w+i] = M\n",
        "    \n",
        "sense = ['<']*(2*w)\n",
        "\n",
        "ndv = 3*w\n",
        "vtype = ['C']*(2*w) + ['B']*w\n",
        "lb = [0]*ndv"
      ],
      "metadata": {
        "id": "roww6KdRVTLK"
      },
      "execution_count": 24,
      "outputs": []
    },
    {
      "cell_type": "code",
      "source": [
        "# Optimization with constraints\n",
        "lassoMod = gp.Model()\n",
        "lassoMod_x = lassoMod.addMVar(ndv,vtype=vtype,lb=lb)\n",
        "lassoMod_con = lassoMod.addMConstr(A, lassoMod_x, sense, b)\n",
        "lassoMod.setMObjective(Q,c,const,sense=gp.GRB.MINIMIZE)\n",
        "lassoMod.Params.OutputFlag = 0 \n",
        "lassoMod.optimize()\n",
        "print('Objective value: {:.5f}'.format(lassoMod.objVal))"
      ],
      "metadata": {
        "colab": {
          "base_uri": "https://localhost:8080/"
        },
        "id": "0n-8AjWLVTN5",
        "outputId": "d0c88b4c-7898-4243-85e6-d527fa5bda2e"
      },
      "execution_count": 25,
      "outputs": [
        {
          "output_type": "stream",
          "name": "stdout",
          "text": [
            "Objective value: 2.03375\n"
          ]
        }
      ]
    },
    {
      "cell_type": "code",
      "source": [
        "# Betas (Intercept and Coefficients)\n",
        "lasso_opt_intercept_ = lassoMod.x[0] - lassoMod.x[w]\n",
        "lasso_opt_coef_ = np.array(lassoMod.x[1:w]) - np.array(lassoMod.x[w+1:2*w])"
      ],
      "metadata": {
        "id": "4JjfDyTrVTQX"
      },
      "execution_count": 26,
      "outputs": []
    },
    {
      "cell_type": "code",
      "source": [
        "print('Intercept   : {}'.format(lasso_opt_intercept_))\n",
        "print('Coefficients:')\n",
        "lasso_opt_coef_"
      ],
      "metadata": {
        "colab": {
          "base_uri": "https://localhost:8080/"
        },
        "id": "lR6v9dKeVTTa",
        "outputId": "615334d4-9d55-4132-b01f-65371c5090c0"
      },
      "execution_count": 27,
      "outputs": [
        {
          "output_type": "stream",
          "name": "stdout",
          "text": [
            "Intercept   : 1.2762324862184156\n",
            "Coefficients:\n"
          ]
        },
        {
          "output_type": "execute_result",
          "data": {
            "text/plain": [
              "array([ 0.        ,  0.        ,  0.        ,  0.        ,  0.        ,\n",
              "        0.        ,  0.        ,  0.        , -2.72026664,  0.        ,\n",
              "       -0.05748608,  0.        ,  0.        ,  0.        , -0.39591542,\n",
              "       -0.23261353,  0.        ,  0.        ,  0.        ,  0.        ,\n",
              "        0.        , -0.22172381, -1.15843581,  0.77566809,  0.        ,\n",
              "       -1.27950516,  0.        ,  0.        ,  0.06524581,  0.        ,\n",
              "        0.        ,  0.        , -0.10843391,  0.25766849,  0.0124064 ,\n",
              "        0.        ,  0.        ,  0.        , -0.18844625,  0.        ,\n",
              "        0.        ,  0.        ,  0.        ,  0.01883393,  1.63217102,\n",
              "       -0.01835748,  0.69404256, -0.08471231,  0.        ,  0.        ])"
            ]
          },
          "metadata": {},
          "execution_count": 27
        }
      ]
    },
    {
      "cell_type": "code",
      "source": [
        "# Number of non-zero coefficients\n",
        "sum([1 for i in lasso_opt_coef_ if i!=0])"
      ],
      "metadata": {
        "colab": {
          "base_uri": "https://localhost:8080/"
        },
        "id": "TMrYVJ5gVTV0",
        "outputId": "7ac31871-ab13-4f58-bc21-e63a3c1a8b34"
      },
      "execution_count": 28,
      "outputs": [
        {
          "output_type": "execute_result",
          "data": {
            "text/plain": [
              "18"
            ]
          },
          "metadata": {},
          "execution_count": 28
        }
      ]
    },
    {
      "cell_type": "code",
      "source": [
        "# Setting X matrices and y vectors\n",
        "#---------------------------------------------------------------------\n",
        "# Training\n",
        "y = df_train['y'].copy()\n",
        "X = df_train.loc[:,df_train.columns!='y'].copy()\n",
        "\n",
        "# Test\n",
        "y_test = df_test['y'].copy()\n",
        "X_test = df_test.loc[:,df_train.columns!='y'].copy()"
      ],
      "metadata": {
        "id": "N7SBTskU3bUJ"
      },
      "execution_count": 29,
      "outputs": []
    },
    {
      "cell_type": "code",
      "source": [
        "# Betas\n",
        "betas_opt = lasso_opt_coef_\n",
        "\n",
        "# Predictions\n",
        "y_pred_test = X_test @ betas_opt + lasso_opt_intercept_\n",
        "y_pred = X @ betas_opt + lasso_opt_intercept_\n",
        "\n",
        "# Metrics\n",
        "sse_test = ((y_pred_test - y_test)**2).sum()\n",
        "sse_train = ((y_pred - y)**2).sum()\n",
        "\n",
        "r2_test = pd.DataFrame({'y_pred_test':y_pred_test,'y_test':y_test}).corr().iloc[0,1]**2\n",
        "r2_train = pd.DataFrame({'y_pred':y_pred,'y':y}).corr().iloc[0,1]**2"
      ],
      "metadata": {
        "id": "oMYIPNoNz8qD"
      },
      "execution_count": 30,
      "outputs": []
    },
    {
      "cell_type": "code",
      "source": [
        "# Printing out Metrics\n",
        "print('\\033[1mTraining\\033[0m')\n",
        "print('SSE       : {:.2f}'.format(sse_train))\n",
        "print('R-Squared : {:.2%}'.format(r2_train))\n",
        "print('\\033[1mTest\\033[0m')\n",
        "print('SSE       : {:.2f}'.format(sse_test))\n",
        "print('R-Squared : {:.2%}'.format(r2_test))"
      ],
      "metadata": {
        "colab": {
          "base_uri": "https://localhost:8080/"
        },
        "id": "rKpE73sCz8sv",
        "outputId": "f55281ab-7498-40ba-9252-e3f2b09372a7"
      },
      "execution_count": 31,
      "outputs": [
        {
          "output_type": "stream",
          "name": "stdout",
          "text": [
            "\u001b[1mTraining\u001b[0m\n",
            "SSE       : 758.64\n",
            "R-Squared : 85.88%\n",
            "\u001b[1mTest\u001b[0m\n",
            "SSE       : 132.12\n",
            "R-Squared : 84.23%\n"
          ]
        }
      ]
    },
    {
      "cell_type": "code",
      "source": [],
      "metadata": {
        "id": "Ge_aXLcJz8vW"
      },
      "execution_count": null,
      "outputs": []
    },
    {
      "cell_type": "markdown",
      "source": [
        "### Coefficients comparison"
      ],
      "metadata": {
        "id": "RbPAdxTN77P9"
      }
    },
    {
      "cell_type": "code",
      "source": [
        "df_coefs = pd.DataFrame({'scikit-learn':model['lasso'].coef_,'Gurobi':lasso_opt_coef_}, index=X.columns)\n",
        "df_coefs[df_coefs['Gurobi']!=0].plot(kind='bar', figsize=(16,6))\n",
        "plt.title('Coefficients Comparison', fontsize=14)\n",
        "plt.xlabel('Variables', fontsize=12)\n",
        "plt.show()"
      ],
      "metadata": {
        "colab": {
          "base_uri": "https://localhost:8080/",
          "height": 418
        },
        "id": "-vLTdVkJVTcS",
        "outputId": "1b3ba97d-c5f6-4bdf-d218-ea4994a6343f"
      },
      "execution_count": 32,
      "outputs": [
        {
          "output_type": "display_data",
          "data": {
            "text/plain": [
              "<Figure size 1152x432 with 1 Axes>"
            ],
            "image/png": "[encoded data removed]"
          },
          "metadata": {
            "needs_background": "light"
          }
        }
      ]
    },
    {
      "cell_type": "code",
      "source": [],
      "metadata": {
        "id": "Ci9wc2-JVTkY"
      },
      "execution_count": null,
      "outputs": []
    },
    {
      "cell_type": "markdown",
      "source": [
        "# Lasso Gurobi setting coefficients"
      ],
      "metadata": {
        "id": "rjxPKXds9pZ2"
      }
    },
    {
      "cell_type": "code",
      "source": [
        "# Setting X matrices and y vectors\n",
        "#-------------------------------------------\n",
        "# Training\n",
        "y = df_train['y'].copy()\n",
        "X = df_train.loc[:,df_train.columns!='y'].copy()\n",
        "X = pd.DataFrame(StandardScaler().fit(X).transform(X),columns=X.columns) # Scaled X train\n",
        "X.insert(loc=0, column='constant', value=1) # add constant (β0)\n",
        "\n",
        "# Test\n",
        "y_test = df_test['y']\n",
        "X_test = df_test.loc[:,df_train.columns!='y']\n",
        "X_test.insert(loc=0, column='constant', value=1) # add constant (β0)"
      ],
      "metadata": {
        "id": "eeJ4rr15r6l0"
      },
      "execution_count": null,
      "outputs": []
    },
    {
      "cell_type": "markdown",
      "source": [
        "Let's set: $ \\; \\beta_9 = -2.5 $"
      ],
      "metadata": {
        "id": "6A-h14lL9s4N"
      }
    },
    {
      "cell_type": "code",
      "source": [
        "# Inputs and Constraints\n",
        "M = 999\n",
        "\n",
        "# Constraints\n",
        "A = np.zeros((2*w+1,3*w))\n",
        "b = np.zeros(2*w+1)\n",
        "\n",
        "# if beta_pos > 0 then beta_neg = 0, viceversa\n",
        "for i in range(w):\n",
        "    A[  i, [  i,2*w+i]] = [1,-M]  # beta_pos(i) <= z(i)*M      -->  1*beta_pos(i) - M*z(i) <= 0\n",
        "    A[w+i, [w+i,2*w+i]] = [1, M]  # beta_neg(i) <= (1-z(i))*M  -->  1*beta_neg(i) + M*z(i) <= M\n",
        "    b[w+i] = M\n",
        "A[-1, [w+9]] = 1\n",
        "b[-1] = 2.5\n",
        "\n",
        "sense = ['<']*(2*w) + ['=']\n",
        "\n",
        "ndv = 3*w\n",
        "vtype = ['C']*(2*w) + ['B']*w\n",
        "lb = [0]*ndv"
      ],
      "metadata": {
        "id": "UemSdhwQT8dg"
      },
      "execution_count": 34,
      "outputs": []
    },
    {
      "cell_type": "code",
      "source": [
        "# Optimization with constraints\n",
        "lassoMod = gp.Model()\n",
        "lassoMod_x = lassoMod.addMVar(ndv,vtype=vtype,lb=lb)\n",
        "lassoMod_con = lassoMod.addMConstr(A, lassoMod_x, sense, b)\n",
        "lassoMod.setMObjective(Q,c,const,sense=gp.GRB.MINIMIZE)\n",
        "lassoMod.Params.OutputFlag = 0 \n",
        "lassoMod.optimize()\n",
        "print('Objective value: {:.5f}'.format(lassoMod.objVal))"
      ],
      "metadata": {
        "colab": {
          "base_uri": "https://localhost:8080/"
        },
        "id": "j7G7OTdwRFL1",
        "outputId": "917e9813-cc09-41c3-86b9-62205ebb8d2f"
      },
      "execution_count": 35,
      "outputs": [
        {
          "output_type": "stream",
          "name": "stdout",
          "text": [
            "Objective value: 2.04373\n"
          ]
        }
      ]
    },
    {
      "cell_type": "code",
      "source": [
        "# Betas (Intercept and Coefficients)\n",
        "lasso_opt_intercept_ = lassoMod.x[0] - lassoMod.x[w]\n",
        "lasso_opt_coef_ = np.array(lassoMod.x[1:w]) - np.array(lassoMod.x[w+1:2*w])"
      ],
      "metadata": {
        "id": "aFdWVh8QjuG8"
      },
      "execution_count": 36,
      "outputs": []
    },
    {
      "cell_type": "code",
      "source": [
        "print('Intercept   : {}'.format(lasso_opt_intercept_))\n",
        "print('Coefficients:')\n",
        "lasso_opt_coef_"
      ],
      "metadata": {
        "colab": {
          "base_uri": "https://localhost:8080/"
        },
        "id": "aX-mPozLjuvf",
        "outputId": "2650d224-d475-4c83-b5c9-cd3d2940120b"
      },
      "execution_count": 37,
      "outputs": [
        {
          "output_type": "stream",
          "name": "stdout",
          "text": [
            "Intercept   : 1.2762324862184156\n",
            "Coefficients:\n"
          ]
        },
        {
          "output_type": "execute_result",
          "data": {
            "text/plain": [
              "array([ 0.        ,  0.        ,  0.        ,  0.        ,  0.        ,\n",
              "        0.        ,  0.        ,  0.        , -2.5       ,  0.        ,\n",
              "       -0.06027474,  0.        ,  0.        ,  0.        , -0.38019428,\n",
              "       -0.27117309,  0.        ,  0.        ,  0.        ,  0.        ,\n",
              "        0.        , -0.25134667, -1.14402368,  0.7965625 ,  0.        ,\n",
              "       -1.29560821,  0.        ,  0.        ,  0.11115918,  0.        ,\n",
              "        0.        ,  0.        , -0.12660695,  0.20769114,  0.12766113,\n",
              "        0.        ,  0.        ,  0.        , -0.14257385,  0.        ,\n",
              "        0.        ,  0.00753995,  0.        ,  0.        ,  1.56089293,\n",
              "       -0.03122018,  0.61232963, -0.08997893,  0.        ,  0.        ])"
            ]
          },
          "metadata": {},
          "execution_count": 37
        }
      ]
    },
    {
      "cell_type": "code",
      "source": [
        "# Setting X matrices and y vectors\n",
        "#---------------------------------------------------------------------\n",
        "# Training\n",
        "y = df_train['y'].copy()\n",
        "X = df_train.loc[:,df_train.columns!='y'].copy()\n",
        "\n",
        "# Test\n",
        "y_test = df_test['y'].copy()\n",
        "X_test = df_test.loc[:,df_train.columns!='y'].copy()"
      ],
      "metadata": {
        "id": "q5x2nQN2-dp2"
      },
      "execution_count": 38,
      "outputs": []
    },
    {
      "cell_type": "code",
      "source": [
        "# Betas\n",
        "betas_opt = lasso_opt_coef_\n",
        "\n",
        "# Predictions\n",
        "y_pred_test = X_test @ betas_opt + lasso_opt_intercept_\n",
        "y_pred = X @ betas_opt + lasso_opt_intercept_\n",
        "\n",
        "# Metrics\n",
        "sse_test = ((y_pred_test - y_test)**2).sum()\n",
        "sse_train = ((y_pred - y)**2).sum()\n",
        "\n",
        "r2_test = pd.DataFrame({'y_pred_test':y_pred_test,'y_test':y_test}).corr().iloc[0,1]**2\n",
        "r2_train = pd.DataFrame({'y_pred':y_pred,'y':y}).corr().iloc[0,1]**2"
      ],
      "metadata": {
        "id": "4_rhGV9g--_a"
      },
      "execution_count": 39,
      "outputs": []
    },
    {
      "cell_type": "code",
      "source": [
        "# Printing out Metrics\n",
        "print('\\033[1mTraining\\033[0m')\n",
        "print('SSE       : {:.2f}'.format(sse_train))\n",
        "print('R-Squared : {:.2%}'.format(r2_train))\n",
        "print('\\033[1mTest\\033[0m')\n",
        "print('SSE       : {:.2f}'.format(sse_test))\n",
        "print('R-Squared : {:.2%}'.format(r2_test))"
      ],
      "metadata": {
        "colab": {
          "base_uri": "https://localhost:8080/"
        },
        "id": "ETbt1ckQ-_IJ",
        "outputId": "57baf87e-c270-47e0-f08f-59cf7f3f6a9e"
      },
      "execution_count": 40,
      "outputs": [
        {
          "output_type": "stream",
          "name": "stdout",
          "text": [
            "\u001b[1mTraining\u001b[0m\n",
            "SSE       : 719.21\n",
            "R-Squared : 86.23%\n",
            "\u001b[1mTest\u001b[0m\n",
            "SSE       : 122.80\n",
            "R-Squared : 85.19%\n"
          ]
        }
      ]
    },
    {
      "cell_type": "code",
      "source": [
        "df_coefs = pd.DataFrame({'Lasso':model['lasso'].coef_,'Lasso setting β9':lasso_opt_coef_}, index=X.columns)\n",
        "df_coefs_betas = df_coefs[(df_coefs['Lasso setting β9']!=0)|(df_coefs['Lasso']!=0)]\n",
        "df_coefs_betas.plot(kind='bar', figsize=(16,6))\n",
        "plt.title('Coefficients Comparison', fontsize=14)\n",
        "plt.xlabel('Variables', fontsize=12)\n",
        "plt.show()"
      ],
      "metadata": {
        "colab": {
          "base_uri": "https://localhost:8080/",
          "height": 418
        },
        "id": "GXnsSUAtRFOm",
        "outputId": "ff179013-9018-4d7e-e6c9-659beb923cb7"
      },
      "execution_count": 42,
      "outputs": [
        {
          "output_type": "display_data",
          "data": {
            "text/plain": [
              "<Figure size 1152x432 with 1 Axes>"
            ],
            "image/png": "[encoded data removed]"
          },
          "metadata": {
            "needs_background": "light"
          }
        }
      ]
    }
  ]
}